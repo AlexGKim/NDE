{
 "cells": [
  {
   "cell_type": "code",
   "execution_count": 1,
   "id": "80a0ac1e-a587-43fc-84c6-ed7e65e32f6a",
   "metadata": {},
   "outputs": [],
   "source": [
    "from astropy.io import fits\n",
    "import sys\n",
    "import glob\n",
    "import numpy\n",
    "from desitarget.sv1.sv1_targetmask import bgs_mask as bgs_mask_sv1\n",
    "from desitarget.sv2.sv2_targetmask import bgs_mask as bgs_mask_sv2\n",
    "from desitarget.sv3.sv3_targetmask import bgs_mask as bgs_mask_sv3\n",
    "\n",
    "\n",
    "from desispec.io import read_spectra, write_spectra\n",
    "from desispec.spectra import Spectra\n",
    "from desispec.coaddition import coadd_cameras\n",
    "from astropy.table import Table, Column, vstack, hstack, join\n",
    "from desiutil.log import get_logger, DEBUG, ERROR"
   ]
  },
  {
   "cell_type": "code",
   "execution_count": 2,
   "id": "a718bc95-69ad-426e-852b-b5bcd142b386",
   "metadata": {},
   "outputs": [],
   "source": [
    "log = get_logger(ERROR)"
   ]
  },
  {
   "cell_type": "code",
   "execution_count": 3,
   "id": "87353529-8498-4f16-ba5d-0a085386ea47",
   "metadata": {},
   "outputs": [],
   "source": [
    "# We may not need this.  We are omitting SV1 and the top-level masks of the rest\n",
    "# are consistent.\n",
    "sv1_bgs_bits = '|'.join([_ for _ in bgs_mask_sv1.names() if 'BGS' in _])\n",
    "sv2_bgs_bits = '|'.join([_ for _ in bgs_mask_sv2.names() if 'BGS' in _])\n",
    "sv3_bgs_bits = '|'.join([_ for _ in bgs_mask_sv3.names() if 'BGS' in _])"
   ]
  },
  {
   "cell_type": "markdown",
   "id": "f8c25b1f-784d-417b-a0a6-6b51acf55e1c",
   "metadata": {},
   "source": [
    "### TARGET bitmasks\n",
    "It has been confirmed that each spectrum is uniquely `SV1`, `SV2`, `SV3`, or Main Survey.  We thus compress these columns into one.\n",
    "\n",
    "    desi=> select  count(*) from everest.zpix_redshifts where (SV2_DESI_TARGET !=0 or SV2_MWS_TARGET !=0 or SV2_BGS_TARGET !=0 or SV2_SCND_TARGET !=0) AND (DESI_TARGET !=0 or MWS_TARGET !=0 or BGS_TARGET !=0);\n",
    "     count \n",
    "    -------\n",
    "         0\n",
    "    (1 row)"
   ]
  },
  {
   "cell_type": "code",
   "execution_count": 4,
   "id": "b7a06676-aa89-4588-a770-10350219a3b2",
   "metadata": {},
   "outputs": [],
   "source": [
    "def getTARGET(fibermap):\n",
    "    \n",
    "    targets = [\"DESI_TARGET\", \"MWS_TARGET\", \"BGS_TARGET\", \"SCND_TARGET\"]\n",
    "    \n",
    "    ans=[]\n",
    "    for target in targets:\n",
    "        colnames=[dum for dum in fibermap.columns.keys() if target in dum]\n",
    "        if len(colnames) == 0:\n",
    "            desi_target = Column(numpy.zeros(len(fibermap)), name=target, dtype=numpy.int64)\n",
    "        else:\n",
    "            desi_target = fibermap[colnames[0]]\n",
    "            dum = fibermap[colnames[0]] !=0\n",
    "            for i in range(1,len(colnames)):\n",
    "                desi_target = desi_target+ fibermap[colnames[i]]\n",
    "                dum = dum + fibermap[colnames[i]] !=0\n",
    "\n",
    "            if max(dum)>1:\n",
    "                raise RuntimeError(target+\": unexpected behavior as only one of these is expected\")\n",
    "\n",
    "        ans.append(desi_target)\n",
    "\n",
    "    return ans"
   ]
  },
  {
   "cell_type": "markdown",
   "id": "1ccecbb3-e24d-4b89-99ab-4f8fac3f2fbc",
   "metadata": {},
   "source": [
    "## Everest\n",
    "\n",
    "There are three types of data, `perexp`, `pernight`, and `cumulative`.  Each has its own subdirectory structure.  Note that the contents of the files may be identical depending if there is only one\n",
    "exposure.\n",
    "\n",
    "### Spectra\n",
    "While spectra are saved in different files, the `coadd*.fits` provide a common format for the spectra we want from all three subdirectories.\n",
    "\n",
    "HDUs inside the fits file are 'FIBERMAP', 'EXP_FIBERMAP', 'X_WAVELENGTH', 'X_FLUX', 'X_IVAR', 'X_MASK', 'X_RESOLUTION', 'SCORES' where X \\in B, R, Z\n",
    "\n",
    "FIBERMAP contains metadata that we want to save.\n",
    "\n",
    "\n",
    "\n",
    "### Redshifts\n",
    "Redshift information is in redrock files.\n",
    "\n",
    "HDUs inside the fits file are 'REDSHIFTS', 'FIBERMAP', 'EXP_FIBERMAP', 'TSNR2'\n",
    "\n",
    "### SV's\n",
    "The bitmasks for SV1 are consistent with others so SV1 targets are omitted"
   ]
  },
  {
   "cell_type": "code",
   "execution_count": 5,
   "id": "6e430723-d76d-4189-9aa0-03a903c8c51e",
   "metadata": {},
   "outputs": [],
   "source": [
    "rootdir=\"/global/project/projectdirs/desi/spectro/redux/everest/tiles/\"\n",
    "subdirs=[\"perexp\", \"pernight\",\"cumulative\"]\n",
    "subdir=subdirs[1]\n",
    "allcoadd_files = glob.glob(rootdir+subdir+'/*/*/coadd-*-*-*.fits')"
   ]
  },
  {
   "cell_type": "code",
   "execution_count": null,
   "id": "54a8c187-9347-4fe1-b75c-9d0aa40fb4ef",
   "metadata": {
    "tags": []
   },
   "outputs": [
    {
     "name": "stdout",
     "output_type": "stream",
     "text": [
      "INFO:spectra.py:282:read_spectra: iotime 0.453 sec to read coadd-4-338-20210414.fits at 2021-12-22T11:42:00.876355\n",
      "INFO:spectra.py:282:read_spectra: iotime 0.453 sec to read coadd-8-338-20210414.fits at 2021-12-22T11:42:04.216889\n",
      "INFO:spectra.py:282:read_spectra: iotime 0.455 sec to read coadd-3-338-20210414.fits at 2021-12-22T11:42:07.361006\n",
      "INFO:spectra.py:282:read_spectra: iotime 0.419 sec to read coadd-2-338-20210414.fits at 2021-12-22T11:42:10.366423\n",
      "INFO:spectra.py:282:read_spectra: iotime 0.429 sec to read coadd-5-338-20210414.fits at 2021-12-22T11:42:13.442141\n",
      "INFO:spectra.py:282:read_spectra: iotime 0.454 sec to read coadd-9-338-20210414.fits at 2021-12-22T11:42:16.496221\n",
      "INFO:spectra.py:282:read_spectra: iotime 0.414 sec to read coadd-6-338-20210414.fits at 2021-12-22T11:42:19.795866\n",
      "INFO:spectra.py:282:read_spectra: iotime 0.411 sec to read coadd-7-338-20210414.fits at 2021-12-22T11:42:22.720412\n",
      "INFO:spectra.py:282:read_spectra: iotime 0.384 sec to read coadd-0-338-20210414.fits at 2021-12-22T11:42:25.463830\n",
      "INFO:spectra.py:282:read_spectra: iotime 0.433 sec to read coadd-1-338-20210414.fits at 2021-12-22T11:42:28.775851\n",
      "INFO:spectra.py:282:read_spectra: iotime 0.451 sec to read coadd-0-2977-20210708.fits at 2021-12-22T11:42:31.877587\n",
      "INFO:spectra.py:282:read_spectra: iotime 0.379 sec to read coadd-6-2977-20210708.fits at 2021-12-22T11:42:35.128172\n",
      "INFO:spectra.py:282:read_spectra: iotime 0.413 sec to read coadd-5-2977-20210708.fits at 2021-12-22T11:42:38.225218\n",
      "INFO:spectra.py:282:read_spectra: iotime 0.351 sec to read coadd-2-2977-20210708.fits at 2021-12-22T11:42:41.294607\n",
      "INFO:spectra.py:282:read_spectra: iotime 0.512 sec to read coadd-8-2977-20210708.fits at 2021-12-22T11:42:44.553818\n",
      "INFO:spectra.py:282:read_spectra: iotime 0.394 sec to read coadd-1-2977-20210708.fits at 2021-12-22T11:42:47.686651\n",
      "INFO:spectra.py:282:read_spectra: iotime 0.376 sec to read coadd-3-2977-20210708.fits at 2021-12-22T11:42:51.028332\n",
      "INFO:spectra.py:282:read_spectra: iotime 0.375 sec to read coadd-7-2977-20210708.fits at 2021-12-22T11:42:54.358165\n",
      "INFO:spectra.py:282:read_spectra: iotime 0.422 sec to read coadd-9-2977-20210708.fits at 2021-12-22T11:42:57.535860\n",
      "INFO:spectra.py:282:read_spectra: iotime 0.397 sec to read coadd-4-2977-20210708.fits at 2021-12-22T11:43:00.642878\n",
      "INFO:spectra.py:282:read_spectra: iotime 0.425 sec to read coadd-1-20393-20210523.fits at 2021-12-22T11:43:03.934422\n",
      "INFO:spectra.py:282:read_spectra: iotime 0.433 sec to read coadd-7-20393-20210523.fits at 2021-12-22T11:43:07.314316\n",
      "INFO:spectra.py:282:read_spectra: iotime 0.335 sec to read coadd-4-20393-20210523.fits at 2021-12-22T11:43:10.268364\n",
      "INFO:spectra.py:282:read_spectra: iotime 0.417 sec to read coadd-2-20393-20210523.fits at 2021-12-22T11:43:13.293402\n"
     ]
    }
   ],
   "source": [
    "for name in allcoadd_files:\n",
    "    \n",
    "    #scrub path for information\n",
    "    dum = name.split('/')\n",
    "    sd1 = dum[-3]\n",
    "    sd2 = dum[-2]\n",
    "    subname = name[name.find('coadd')+6:-5]\n",
    "    dum = subname.split('-')\n",
    "    panel=dum[0]\n",
    "    \n",
    "    zname=name.replace('coadd','redrock')\n",
    "    \n",
    "    #Read spectra and coadd cameras, read \n",
    "    \n",
    "    pspectra = read_spectra(name)\n",
    "    cspectra = coadd_cameras(pspectra)\n",
    "    zbest = Table.read(zname, 'redshifts')\n",
    "\n",
    "    #Make selection: only targets in a good fiber\n",
    "\n",
    "    select = (cspectra.fibermap['OBJTYPE'] == 'TGT') & (cspectra.fibermap['COADD_FIBERSTATUS'] == 0)\n",
    "    \n",
    "    # Also select targets not from SV1.  SV1 targets have a non-zero\n",
    "    # value in a column SV1_*_TARGET\n",
    "    sv1_colnames=[dum for dum in cspectra.fibermap.columns.keys() if \"SV1_\" in dum]\n",
    "    if len(sv1_colnames) !=0:\n",
    "        notinSV1 = cspectra.fibermap[sv1_colnames[0]] ==0\n",
    "        for i in range(1,len(sv1_colnames)):\n",
    "            notinSV1 = numpy.logical_and(notinSV1, cspectra.fibermap[sv1_colnames[i]] ==0)\n",
    "        select = numpy.logical_and(select,notinSV1)\n",
    "\n",
    "    # if there is nothing selected move on to the next file\n",
    "    if select.sum()==0:\n",
    "        continue\n",
    "\n",
    "    #Access the relevant keys\n",
    "    \n",
    "    tid = cspectra.fibermap[select]['TARGETID']\n",
    "    tra = cspectra.fibermap[select]['TARGET_RA']\n",
    "    tdec = cspectra.fibermap[select]['TARGET_DEC']\n",
    "\n",
    "    desi_target, mws_target, bgs_target, scnd_target = getTARGET(cspectra.fibermap[select])\n",
    "    \n",
    "    zs = zbest[select]['Z'],\n",
    "    zerr = zbest[select]['ZERR']\n",
    "    zwarn = zbest[select]['ZWARN']\n",
    "    spectype = zbest[select]['SPECTYPE']\n",
    "    subtype = zbest[select]['SUBTYPE']\n",
    "    deltachi2 = zbest[select]['DELTACHI2']\n",
    "        \n",
    "    \n",
    "    # Access spectra here\n",
    "    \n",
    "    allwave = cspectra.wave['brz']\n",
    "    allflux = cspectra.flux['brz'][select]\n",
    "    allivar = cspectra.ivar['brz'][select]\n",
    "    allmask = cspectra.mask['brz'][select]"
   ]
  },
  {
   "cell_type": "code",
   "execution_count": null,
   "id": "3240c8d8-b5ee-4523-b9d3-009223707e57",
   "metadata": {},
   "outputs": [],
   "source": []
  }
 ],
 "metadata": {
  "kernelspec": {
   "display_name": "DESI master",
   "language": "python",
   "name": "desi-master"
  },
  "language_info": {
   "codemirror_mode": {
    "name": "ipython",
    "version": 3
   },
   "file_extension": ".py",
   "mimetype": "text/x-python",
   "name": "python",
   "nbconvert_exporter": "python",
   "pygments_lexer": "ipython3",
   "version": "3.8.3"
  }
 },
 "nbformat": 4,
 "nbformat_minor": 5
}
