{
 "cells": [
  {
   "cell_type": "code",
   "execution_count": null,
   "id": "80a0ac1e-a587-43fc-84c6-ed7e65e32f6a",
   "metadata": {},
   "outputs": [],
   "source": [
    "from astropy.io import fits\n",
    "import glob"
   ]
  },
  {
   "cell_type": "markdown",
   "id": "1ccecbb3-e24d-4b89-99ab-4f8fac3f2fbc",
   "metadata": {},
   "source": [
    "## Everest\n",
    "\n",
    "There are three types of data, `perexp`, `pernight`, and `cumulative`.  Each has its own subdirectory structure.\n",
    "\n",
    "### Spectra\n",
    "While spectra are saved in different files, the `coadd*.fits` provide a common format for the spectra we want from all three subdirectories.\n",
    "\n",
    "HDUs inside the fits file are 'FIBERMAP', 'EXP_FIBERMAP', 'X_WAVELENGTH', 'X_FLUX', 'X_IVAR', 'X_MASK', 'X_RESOLUTION', 'SCORES' where X \\in B, R, Z\n",
    "\n",
    "FIBERMAP contains metadata that we want to save.\n",
    "\n",
    "\n",
    "\n",
    "### Redshifts\n",
    "Redshift information is in redrock files.\n",
    "\n",
    "HDUs inside the fits file are 'REDSHIFTS', 'FIBERMAP', 'EXP_FIBERMAP', 'TSNR2'"
   ]
  },
  {
   "cell_type": "code",
   "execution_count": null,
   "id": "6e430723-d76d-4189-9aa0-03a903c8c51e",
   "metadata": {},
   "outputs": [],
   "source": [
    "rootdir=\"/global/project/projectdirs/desi/spectro/redux/everest/tiles/\"\n",
    "subdir=\"perexp/\""
   ]
  },
  {
   "cell_type": "code",
   "execution_count": null,
   "id": "54a8c187-9347-4fe1-b75c-9d0aa40fb4ef",
   "metadata": {},
   "outputs": [],
   "source": [
    "for name in glob.glob(rootdir+subdir+'/*/*/coadd-*-*-*.fits'):\n",
    "    #scrub path for information\n",
    "    dum = name.split('/')\n",
    "    sd1 = dum[-3]\n",
    "    sd2 = dum[-2]\n",
    "    subname = name[name.find('coadd')+6:-5]\n",
    "    dum = subname.split('-')\n",
    "    panel=dum[0]\n",
    "\n",
    "    print(sd1, sd2, panel)\n",
    "    \n",
    "    zname=name.replace('coadd','redrock')\n",
    "    \n",
    "    hdul=fits.open(name)    \n",
    "    zhdul=fits.open(zname)\n",
    "    index = 0 \n",
    "    print(hdul['FIBERMAP'].data[index]['TARGETID'],\n",
    "         hdul['FIBERMAP'].data[index]['COADD_FIBERSTATUS'],\n",
    "         hdul['FIBERMAP'].data[index]['OBJTYPE'],\n",
    "         hdul['FIBERMAP'].data[index]['DESI_TARGET'],\n",
    "         hdul['FIBERMAP'].data[index]['MWS_TARGET'],\n",
    "         hdul['FIBERMAP'].data[index]['BGS_TARGET'],\n",
    "         hdul['FIBERMAP'].data[index]['SV3_DESI_TARGET'],\n",
    "         hdul['FIBERMAP'].data[index]['SV3_MWS_TARGET'],\n",
    "         hdul['FIBERMAP'].data[index]['SV3_BGS_TARGET'],\n",
    "         hdul['FIBERMAP'].data[index]['SV3_SCND_TARGET'])\n",
    "    \n",
    "    print(zhdul['REDSHIFTS'].data[index]['Z'],\n",
    "          zhdul['REDSHIFTS'].data[index]['ZERR'],\n",
    "          zhdul['REDSHIFTS'].data[index]['ZWARN'],\n",
    "          zhdul['REDSHIFTS'].data[index]['SPECTYPE'],\n",
    "          zhdul['REDSHIFTS'].data[index]['SUBTYPE'],\n",
    "         )\n",
    "    wef\n",
    "    "
   ]
  },
  {
   "cell_type": "code",
   "execution_count": null,
   "id": "e52251dc-d2ae-42b6-8369-f0ae3e5ef5ae",
   "metadata": {},
   "outputs": [],
   "source": [
    "    print(zhdul['REDSHIFTS'].data[index]['Z'],\n",
    "          zhdul['REDSHIFTS'].data[index]['ZERR'],\n",
    "          zhdul['REDSHIFTS'].data[index]['ZWARN'],\n",
    "          zhdul['REDSHIFTS'].data[index]['SPECTYPE'],\n",
    "          zhdul['REDSHIFTS'].data[index]['SUBTYPE'],)"
   ]
  },
  {
   "cell_type": "code",
   "execution_count": null,
   "id": "738c2aae-fbf3-43b0-8459-3afa03c55630",
   "metadata": {},
   "outputs": [],
   "source": [
    "zhdul['REDSHIFTS'].data.names"
   ]
  }
 ],
 "metadata": {
  "kernelspec": {
   "display_name": "DESI master",
   "language": "python",
   "name": "desi-master"
  },
  "language_info": {
   "codemirror_mode": {
    "name": "ipython",
    "version": 3
   },
   "file_extension": ".py",
   "mimetype": "text/x-python",
   "name": "python",
   "nbconvert_exporter": "python",
   "pygments_lexer": "ipython3",
   "version": "3.8.3"
  }
 },
 "nbformat": 4,
 "nbformat_minor": 5
}
